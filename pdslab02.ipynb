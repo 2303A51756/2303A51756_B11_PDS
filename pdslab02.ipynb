{
  "nbformat": 4,
  "nbformat_minor": 0,
  "metadata": {
    "colab": {
      "provenance": [],
      "authorship_tag": "ABX9TyOSItXSpYlYjsdbYpAevBNR",
      "include_colab_link": true
    },
    "kernelspec": {
      "name": "python3",
      "display_name": "Python 3"
    },
    "language_info": {
      "name": "python"
    }
  },
  "cells": [
    {
      "cell_type": "markdown",
      "metadata": {
        "id": "view-in-github",
        "colab_type": "text"
      },
      "source": [
        "<a href=\"https://colab.research.google.com/github/2303A51756/2303A51756_B11_PDS/blob/main/pdslab02.ipynb\" target=\"_parent\"><img src=\"https://colab.research.google.com/assets/colab-badge.svg\" alt=\"Open In Colab\"/></a>"
      ]
    },
    {
      "cell_type": "code",
      "source": [
        "import numpy as np\n",
        "\n",
        "# Step 1: Create a 2D NumPy array for student marks in 3 subjects (5 students)\n",
        "# Format: Rows = Students, Columns = Subjects\n",
        "marks = np.array([\n",
        "    [85, 78, 92],\n",
        "    [56, 64, 70],\n",
        "    [90, 88, 94],\n",
        "    [72, 60, 65],\n",
        "    [88, 82, 91]\n",
        "])\n",
        "print(\"Student Marks Array:\\n\", marks)"
      ],
      "metadata": {
        "colab": {
          "base_uri": "https://localhost:8080/"
        },
        "id": "osHRfacS0lFw",
        "outputId": "dcbf6e05-6bc0-48b0-fc37-d9f3a5640b91"
      },
      "execution_count": null,
      "outputs": [
        {
          "output_type": "stream",
          "name": "stdout",
          "text": [
            "Student Marks Array:\n",
            " [[85 78 92]\n",
            " [56 64 70]\n",
            " [90 88 94]\n",
            " [72 60 65]\n",
            " [88 82 91]]\n"
          ]
        }
      ]
    },
    {
      "cell_type": "code",
      "source": [
        "# Step 2: Calculate average, minimum, and maximum marks for each student\n",
        "average_marks = np.mean(marks, axis=1)\n",
        "min_marks = np.min(marks, axis=1)\n",
        "max_marks = np.max(marks, axis=1)\n",
        "\n",
        "print(\"\\nAverage Marks per Student:\", average_marks)\n",
        "print(\"Minimum Marks per Student:\", min_marks)\n",
        "print(\"Maximum Marks per Student:\", max_marks)"
      ],
      "metadata": {
        "colab": {
          "base_uri": "https://localhost:8080/"
        },
        "id": "dqGcgGmD4Ygh",
        "outputId": "50b30600-53b0-4790-dc81-77316524aebb"
      },
      "execution_count": null,
      "outputs": [
        {
          "output_type": "stream",
          "name": "stdout",
          "text": [
            "\n",
            "Average Marks per Student: [85.         63.33333333 90.66666667 65.66666667 87.        ]\n",
            "Minimum Marks per Student: [78 56 88 60 82]\n",
            "Maximum Marks per Student: [92 70 94 72 91]\n"
          ]
        }
      ]
    },
    {
      "cell_type": "code",
      "source": [
        "# Step 3: Use slicing to retrieve marks of specific students (e.g., 1st and 3rd students)\n",
        "print(\"\\nMarks of 1st and 3rd students:\\n\", marks[[0, 2]])\n"
      ],
      "metadata": {
        "colab": {
          "base_uri": "https://localhost:8080/"
        },
        "id": "DPtjBOqF4lFL",
        "outputId": "d3cbacd1-6029-4635-cbae-96125839ad6f"
      },
      "execution_count": null,
      "outputs": [
        {
          "output_type": "stream",
          "name": "stdout",
          "text": [
            "\n",
            "Marks of 1st and 3rd students:\n",
            " [[85 78 92]\n",
            " [90 88 94]]\n"
          ]
        }
      ]
    },
    {
      "cell_type": "code",
      "source": [
        "# Step 4: Use boolean indexing to find students scoring above 80 in any subject\n",
        "# Create a boolean array\n",
        "above_80 = marks > 80\n",
        "print(\"\\nBoolean array of marks > 80:\\n\", above_80)\n",
        "\n",
        "# Find student indices where any subject has a mark > 80\n",
        "students_above_80 = np.any(marks > 80, axis=1)\n",
        "print(\"\\nStudents scoring above 80 in any subject:\\n\", marks[students_above_80])\n"
      ],
      "metadata": {
        "colab": {
          "base_uri": "https://localhost:8080/"
        },
        "id": "PC_1Vr_s4rD6",
        "outputId": "e03e30b2-a3cf-4221-e678-c477ce6df80d"
      },
      "execution_count": null,
      "outputs": [
        {
          "output_type": "stream",
          "name": "stdout",
          "text": [
            "\n",
            "Boolean array of marks > 80:\n",
            " [[ True False  True]\n",
            " [False False False]\n",
            " [ True  True  True]\n",
            " [False False False]\n",
            " [ True  True  True]]\n",
            "\n",
            "Students scoring above 80 in any subject:\n",
            " [[85 78 92]\n",
            " [90 88 94]\n",
            " [88 82 91]]\n"
          ]
        }
      ]
    },
    {
      "cell_type": "code",
      "source": [
        "# Step 5: Reshape the array to observe subject-wise performance\n",
        "# Transpose the array to make columns = students, rows = subjects\n",
        "subject_wise = marks.T\n",
        "print(\"\\nSubject-wise Marks (Rows = Subjects):\\n\", subject_wise)\n",
        "\n",
        "# Step 6: Analysis/Observations\n",
        "# Print average score per subject\n",
        "avg_subject_marks = np.mean(subject_wise, axis=1)\n",
        "print(\"\\nAverage Marks per Subject:\", avg_subject_marks)"
      ],
      "metadata": {
        "colab": {
          "base_uri": "https://localhost:8080/"
        },
        "id": "vm8IPfIY43YS",
        "outputId": "d2435d6f-fc58-4e7a-8a7b-5300dcaf1fb2"
      },
      "execution_count": null,
      "outputs": [
        {
          "output_type": "stream",
          "name": "stdout",
          "text": [
            "\n",
            "Subject-wise Marks (Rows = Subjects):\n",
            " [[85 56 90 72 88]\n",
            " [78 64 88 60 82]\n",
            " [92 70 94 65 91]]\n",
            "\n",
            "Average Marks per Subject: [78.2 74.4 82.4]\n"
          ]
        }
      ]
    },
    {
      "cell_type": "code",
      "source": [
        "import numpy as np\n",
        "\n",
        "# Step 1: Create a 2D NumPy array for student marks in 3 subjects (5 students)\n",
        "# Format: Rows = Students, Columns = Subjects\n",
        "marks = np.array([\n",
        "    [85, 78, 92],\n",
        "    [56, 64, 70],\n",
        "    [90, 88, 94],\n",
        "    [72, 60, 65],\n",
        "    [88, 82, 91]\n",
        "])\n",
        "print(\"Student Marks Array:\\n\", marks)\n",
        "\n",
        "# Step 2: Calculate average, minimum, and maximum marks for each student\n",
        "average_marks = np.mean(marks, axis=1)\n",
        "min_marks = np.min(marks, axis=1)\n",
        "max_marks = np.max(marks, axis=1)\n",
        "\n",
        "print(\"\\nAverage Marks per Student:\", average_marks)\n",
        "print(\"Minimum Marks per Student:\", min_marks)\n",
        "print(\"Maximum Marks per Student:\", max_marks)\n",
        "\n",
        "# Step 3: Use slicing to retrieve marks of specific students (e.g., 1st and 3rd students)\n",
        "print(\"\\nMarks of 1st and 3rd students:\\n\", marks[[0, 2]])\n",
        "\n",
        "# Step 4: Use boolean indexing to find students scoring above 80 in any subject\n",
        "# Create a boolean array\n",
        "above_80 = marks > 80\n",
        "print(\"\\nBoolean array of marks > 80:\\n\", above_80)\n",
        "\n",
        "# Find student indices where any subject has a mark > 80\n",
        "students_above_80 = np.any(marks > 80, axis=1)\n",
        "print(\"\\nStudents scoring above 80 in any subject:\\n\", marks[students_above_80])\n",
        "\n",
        "# Step 5: Reshape the array to observe subject-wise performance\n",
        "# Transpose the array to make columns = students, rows = subjects\n",
        "subject_wise = marks.T\n",
        "print(\"\\nSubject-wise Marks (Rows = Subjects):\\n\", subject_wise)\n",
        "\n",
        "# Step 6: Analysis/Observations\n",
        "# Print average score per subject\n",
        "avg_subject_marks = np.mean(subject_wise, axis=1)\n",
        "print(\"\\nAverage Marks per Subject:\", avg_subject_marks)\n"
      ],
      "metadata": {
        "colab": {
          "base_uri": "https://localhost:8080/"
        },
        "id": "-AGejvAM4-ar",
        "outputId": "afba9f95-4cdf-4374-f044-26d8a05e82a8"
      },
      "execution_count": null,
      "outputs": [
        {
          "output_type": "stream",
          "name": "stdout",
          "text": [
            "Student Marks Array:\n",
            " [[85 78 92]\n",
            " [56 64 70]\n",
            " [90 88 94]\n",
            " [72 60 65]\n",
            " [88 82 91]]\n",
            "\n",
            "Average Marks per Student: [85.         63.33333333 90.66666667 65.66666667 87.        ]\n",
            "Minimum Marks per Student: [78 56 88 60 82]\n",
            "Maximum Marks per Student: [92 70 94 72 91]\n",
            "\n",
            "Marks of 1st and 3rd students:\n",
            " [[85 78 92]\n",
            " [90 88 94]]\n",
            "\n",
            "Boolean array of marks > 80:\n",
            " [[ True False  True]\n",
            " [False False False]\n",
            " [ True  True  True]\n",
            " [False False False]\n",
            " [ True  True  True]]\n",
            "\n",
            "Students scoring above 80 in any subject:\n",
            " [[85 78 92]\n",
            " [90 88 94]\n",
            " [88 82 91]]\n",
            "\n",
            "Subject-wise Marks (Rows = Subjects):\n",
            " [[85 56 90 72 88]\n",
            " [78 64 88 60 82]\n",
            " [92 70 94 65 91]]\n",
            "\n",
            "Average Marks per Subject: [78.2 74.4 82.4]\n"
          ]
        }
      ]
    },
    {
      "cell_type": "code",
      "source": [
        "import pandas as pd\n",
        "\n",
        "# Step 1: Create a dictionary with employee details\n",
        "data = {\n",
        "    'Name': ['Alice', 'Bob', 'Charlie', 'David', 'Eva'],\n",
        "    'ID': [101, 102, 103, 104, 105],\n",
        "    'Department': ['HR', 'IT', 'Finance', 'IT', 'HR'],\n",
        "    'Salary': [48000, 52000, 61000, 45000, 75000]\n",
        "}\n",
        "\n",
        "# Step 2: Create a DataFrame\n",
        "df = pd.DataFrame(data)\n",
        "print(\"Original DataFrame:\\n\", df)\n",
        "\n",
        "# Step 3: Filter employees with salary > 50,000\n",
        "high_salary_df = df[df['Salary'] > 50000]\n",
        "print(\"\\nEmployees with Salary > 50,000:\\n\", high_salary_df)\n",
        "\n",
        "# Step 4: Sort the DataFrame by salary in descending order\n",
        "sorted_df = df.sort_values(by='Salary', ascending=False)\n",
        "print(\"\\nDataFrame Sorted by Salary (Descending):\\n\", sorted_df)\n",
        "\n",
        "# Step 5: Add a new column for Bonus (10% of salary)\n",
        "df['Bonus'] = df['Salary'] * 0.10\n",
        "print(\"\\nDataFrame with Bonus Column:\\n\", df)\n",
        "\n",
        "# Step 6: Calculate total salary expense including bonuses\n",
        "df['TotalPay'] = df['Salary'] + df['Bonus']\n",
        "total_expense = df['TotalPay'].sum()\n",
        "print(\"\\nTotal Salary Expense (including Bonuses): ₹\", total_expense)\n",
        "\n",
        "# Step 7: Save the updated DataFrame to CSV\n",
        "df.to_csv(\"employee_salary_analysis.csv\", index=False)\n",
        "print(\"\\nCSV file 'employee_salary_analysis.csv' has been saved.\")\n"
      ],
      "metadata": {
        "id": "ul47Xe2u5a9o",
        "outputId": "358129dd-8122-43d7-d144-b7a33ba50bcd",
        "colab": {
          "base_uri": "https://localhost:8080/"
        }
      },
      "execution_count": null,
      "outputs": [
        {
          "output_type": "stream",
          "name": "stdout",
          "text": [
            "Original DataFrame:\n",
            "       Name   ID Department  Salary\n",
            "0    Alice  101         HR   48000\n",
            "1      Bob  102         IT   52000\n",
            "2  Charlie  103    Finance   61000\n",
            "3    David  104         IT   45000\n",
            "4      Eva  105         HR   75000\n",
            "\n",
            "Employees with Salary > 50,000:\n",
            "       Name   ID Department  Salary\n",
            "1      Bob  102         IT   52000\n",
            "2  Charlie  103    Finance   61000\n",
            "4      Eva  105         HR   75000\n",
            "\n",
            "DataFrame Sorted by Salary (Descending):\n",
            "       Name   ID Department  Salary\n",
            "4      Eva  105         HR   75000\n",
            "2  Charlie  103    Finance   61000\n",
            "1      Bob  102         IT   52000\n",
            "0    Alice  101         HR   48000\n",
            "3    David  104         IT   45000\n",
            "\n",
            "DataFrame with Bonus Column:\n",
            "       Name   ID Department  Salary   Bonus\n",
            "0    Alice  101         HR   48000  4800.0\n",
            "1      Bob  102         IT   52000  5200.0\n",
            "2  Charlie  103    Finance   61000  6100.0\n",
            "3    David  104         IT   45000  4500.0\n",
            "4      Eva  105         HR   75000  7500.0\n",
            "\n",
            "Total Salary Expense (including Bonuses): ₹ 309100.0\n",
            "\n",
            "CSV file 'employee_salary_analysis.csv' has been saved.\n"
          ]
        }
      ]
    }
  ]
}