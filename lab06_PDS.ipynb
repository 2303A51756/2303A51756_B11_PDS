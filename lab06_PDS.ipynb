{
  "nbformat": 4,
  "nbformat_minor": 0,
  "metadata": {
    "colab": {
      "provenance": [],
      "authorship_tag": "ABX9TyPyKpH7J/on3Cv9g2EXGOs6",
      "include_colab_link": true
    },
    "kernelspec": {
      "name": "python3",
      "display_name": "Python 3"
    },
    "language_info": {
      "name": "python"
    }
  },
  "cells": [
    {
      "cell_type": "markdown",
      "metadata": {
        "id": "view-in-github",
        "colab_type": "text"
      },
      "source": [
        "<a href=\"https://colab.research.google.com/github/2303A51756/2303A51756_B11_PDS/blob/main/lab06_PDS.ipynb\" target=\"_parent\"><img src=\"https://colab.research.google.com/assets/colab-badge.svg\" alt=\"Open In Colab\"/></a>"
      ]
    },
    {
      "cell_type": "code",
      "execution_count": 1,
      "metadata": {
        "colab": {
          "base_uri": "https://localhost:8080/"
        },
        "id": "UjCETQRC_nDH",
        "outputId": "7615fb57-d3d2-4c4f-89ae-8c5dabeb31f5"
      },
      "outputs": [
        {
          "output_type": "stream",
          "name": "stdout",
          "text": [
            "----- Original Dataset -----\n",
            "   TransactionID Customer     Product  Amount\n",
            "0            101    Alice      Laptop    1200\n",
            "1            102      Bob      Mobile     800\n",
            "2            103  Charlie      Tablet     400\n",
            "3            104    David      Laptop    1200\n",
            "4            105      Eva  Headphones     150\n",
            "5            103  Charlie      Tablet     400\n",
            "6            104    David      Laptop    1200\n",
            "\n",
            "Duplicate Records (True means duplicate):\n",
            "0    False\n",
            "1    False\n",
            "2    False\n",
            "3    False\n",
            "4    False\n",
            "5     True\n",
            "6     True\n",
            "dtype: bool\n",
            "\n",
            "Number of duplicate records before cleaning: 2\n",
            "Number of duplicate records after cleaning: 0\n",
            "\n",
            "----- Cleaned Dataset -----\n",
            "   TransactionID Customer     Product  Amount\n",
            "0            101    Alice      Laptop    1200\n",
            "1            102      Bob      Mobile     800\n",
            "2            103  Charlie      Tablet     400\n",
            "3            104    David      Laptop    1200\n",
            "4            105      Eva  Headphones     150\n"
          ]
        }
      ],
      "source": [
        "import pandas as pd\n",
        "\n",
        "# ----- Step 1: Create a sample sales dataset with duplicates -----\n",
        "data = {\n",
        "    \"TransactionID\": [101, 102, 103, 104, 105, 103, 104],  # duplicate transaction IDs\n",
        "    \"Customer\": [\"Alice\", \"Bob\", \"Charlie\", \"David\", \"Eva\", \"Charlie\", \"David\"],\n",
        "    \"Product\": [\"Laptop\", \"Mobile\", \"Tablet\", \"Laptop\", \"Headphones\", \"Tablet\", \"Laptop\"],\n",
        "    \"Amount\": [1200, 800, 400, 1200, 150, 400, 1200]\n",
        "}\n",
        "\n",
        "df = pd.DataFrame(data)\n",
        "\n",
        "print(\"----- Original Dataset -----\")\n",
        "print(df)\n",
        "\n",
        "# ----- Step 2: Identify duplicate rows -----\n",
        "duplicates = df.duplicated()\n",
        "print(\"\\nDuplicate Records (True means duplicate):\")\n",
        "print(duplicates)\n",
        "\n",
        "# Count duplicates\n",
        "duplicate_count = df.duplicated().sum()\n",
        "print(f\"\\nNumber of duplicate records before cleaning: {duplicate_count}\")\n",
        "\n",
        "# ----- Step 3: Remove duplicates -----\n",
        "df_cleaned = df.drop_duplicates()\n",
        "\n",
        "# Count after cleaning\n",
        "duplicate_count_after = df_cleaned.duplicated().sum()\n",
        "print(f\"Number of duplicate records after cleaning: {duplicate_count_after}\")\n",
        "\n",
        "print(\"\\n----- Cleaned Dataset -----\")\n",
        "print(df_cleaned)\n"
      ]
    },
    {
      "cell_type": "markdown",
      "source": [
        "QUESTION 2:"
      ],
      "metadata": {
        "id": "QECn2WGmAKRA"
      }
    },
    {
      "cell_type": "code",
      "source": [
        "import pandas as pd\n",
        "\n",
        "# ----- Step 1: Create a sample employee dataset with incorrect data types -----\n",
        "data = {\n",
        "    \"EmployeeID\": [1, 2, 3, 4],\n",
        "    \"Name\": [\"Alice\", \"Bob\", \"Charlie\", \"David\"],\n",
        "    \"Salary\": [\"50000\", \"60000\", \"55000\", \"70000\"],   # stored as string\n",
        "    \"Joining_Date\": [\"2021-05-10\", \"2020-08-15\", \"2022-01-20\", \"2019-12-01\"]  # stored as string\n",
        "}\n",
        "\n",
        "df = pd.DataFrame(data)\n",
        "\n",
        "print(\"----- Original Dataset -----\")\n",
        "print(df.dtypes)   # Show original data types\n",
        "print(df)\n",
        "\n",
        "# ----- Step 2: Convert Salary to numeric -----\n",
        "df[\"Salary\"] = pd.to_numeric(df[\"Salary\"])\n",
        "\n",
        "# ----- Step 3: Convert Joining_Date to datetime -----\n",
        "df[\"Joining_Date\"] = pd.to_datetime(df[\"Joining_Date\"])\n",
        "\n",
        "print(\"\\n----- Cleaned Dataset (After Type Conversion) -----\")\n",
        "print(df.dtypes)   # Show corrected data types\n",
        "print(df)\n"
      ],
      "metadata": {
        "colab": {
          "base_uri": "https://localhost:8080/"
        },
        "id": "Ag80Lb8UAOLx",
        "outputId": "f57f7c59-5532-48da-a282-e4bfa25add25"
      },
      "execution_count": 2,
      "outputs": [
        {
          "output_type": "stream",
          "name": "stdout",
          "text": [
            "----- Original Dataset -----\n",
            "EmployeeID       int64\n",
            "Name            object\n",
            "Salary          object\n",
            "Joining_Date    object\n",
            "dtype: object\n",
            "   EmployeeID     Name Salary Joining_Date\n",
            "0           1    Alice  50000   2021-05-10\n",
            "1           2      Bob  60000   2020-08-15\n",
            "2           3  Charlie  55000   2022-01-20\n",
            "3           4    David  70000   2019-12-01\n",
            "\n",
            "----- Cleaned Dataset (After Type Conversion) -----\n",
            "EmployeeID               int64\n",
            "Name                    object\n",
            "Salary                   int64\n",
            "Joining_Date    datetime64[ns]\n",
            "dtype: object\n",
            "   EmployeeID     Name  Salary Joining_Date\n",
            "0           1    Alice   50000   2021-05-10\n",
            "1           2      Bob   60000   2020-08-15\n",
            "2           3  Charlie   55000   2022-01-20\n",
            "3           4    David   70000   2019-12-01\n"
          ]
        }
      ]
    }
  ]
}