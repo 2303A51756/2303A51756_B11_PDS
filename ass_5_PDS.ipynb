{
  "nbformat": 4,
  "nbformat_minor": 0,
  "metadata": {
    "colab": {
      "provenance": [],
      "authorship_tag": "ABX9TyM3vqB3zs+Iu82qA7eOC4QB",
      "include_colab_link": true
    },
    "kernelspec": {
      "name": "python3",
      "display_name": "Python 3"
    },
    "language_info": {
      "name": "python"
    }
  },
  "cells": [
    {
      "cell_type": "markdown",
      "metadata": {
        "id": "view-in-github",
        "colab_type": "text"
      },
      "source": [
        "<a href=\"https://colab.research.google.com/github/2303A51756/2303A51756_B11_PDS/blob/main/ass_5_PDS.ipynb\" target=\"_parent\"><img src=\"https://colab.research.google.com/assets/colab-badge.svg\" alt=\"Open In Colab\"/></a>"
      ]
    },
    {
      "cell_type": "code",
      "execution_count": null,
      "metadata": {
        "id": "bu1nxrosbkRy"
      },
      "outputs": [],
      "source": []
    },
    {
      "cell_type": "markdown",
      "source": [
        "ASSIGNMENT - 5"
      ],
      "metadata": {
        "id": "R614zt9JboMt"
      }
    },
    {
      "cell_type": "code",
      "source": [
        "import pandas as pd\n",
        "\n",
        "# ------------------------------\n",
        "# 1. Create Teachers dataset\n",
        "# ------------------------------\n",
        "teachers = pd.DataFrame({\n",
        "    'teacher_id': [1, 2, 3, 4, 5],\n",
        "    'teacher_name': ['Alice', 'Bob', 'Charlie', 'David', 'Eva'],\n",
        "    'department': ['Math', 'Physics', 'Math', 'Computer Science', 'Physics']\n",
        "})\n",
        "\n",
        "print(\"Teachers Dataset:\")\n",
        "print(teachers, \"\\n\")\n",
        "\n",
        "# ------------------------------\n",
        "# 2. Create Courses dataset\n",
        "# ------------------------------\n",
        "courses = pd.DataFrame({\n",
        "    'course_id': [101, 102, 103, 104, 105, 106, 107],\n",
        "    'course_name': ['Algebra', 'Mechanics', 'Statistics', 'Programming',\n",
        "                    'Databases', 'Quantum Physics', 'AI'],\n",
        "    'teacher_id': [1, 2, 1, 4, 4, 2, 3]   # teachers mapped\n",
        "})\n",
        "\n",
        "print(\"Courses Dataset:\")\n",
        "print(courses, \"\\n\")\n",
        "\n",
        "# ------------------------------\n",
        "# 3. Merge Teachers & Courses\n",
        "# ------------------------------\n",
        "# Inner Join (only teachers with courses)\n",
        "merged_inner = pd.merge(teachers, courses, on=\"teacher_id\", how=\"inner\")\n",
        "print(\"Merged Dataset (Inner Join):\")\n",
        "print(merged_inner, \"\\n\")\n",
        "\n",
        "# Left Join (all teachers, even if no courses)\n",
        "merged_left = pd.merge(teachers, courses, on=\"teacher_id\", how=\"left\")\n",
        "print(\"Merged Dataset (Left Join):\")\n",
        "print(merged_left, \"\\n\")\n",
        "\n",
        "# ------------------------------\n",
        "# 4. Compute Average Courses per Teacher\n",
        "# ------------------------------\n",
        "course_count = courses.groupby('teacher_id').size().reset_index(name=\"num_courses\")\n",
        "avg_courses = course_count[\"num_courses\"].mean()\n",
        "\n",
        "print(\"Courses per Teacher:\")\n",
        "print(course_count, \"\\n\")\n",
        "print(f\"Average courses per teacher: {avg_courses:.2f}\\n\")\n",
        "\n",
        "# ------------------------------\n",
        "# 5. Group by Department: Total Workload\n",
        "# ------------------------------\n",
        "# Merge counts with teachers\n",
        "teacher_course_counts = pd.merge(teachers, course_count, on=\"teacher_id\", how=\"left\").fillna(0)\n",
        "\n",
        "dept_workload = teacher_course_counts.groupby(\"department\")[\"num_courses\"].sum().reset_index()\n",
        "\n",
        "print(\"Department-wise Workload:\")\n",
        "print(dept_workload, \"\\n\")\n",
        "\n",
        "# ------------------------------\n",
        "# 6. Discussion\n",
        "# ------------------------------\n",
        "print(\"Discussion:\")\n",
        "print(\"- Inner join shows only teachers who actually teach courses.\")\n",
        "print(\"- Left join includes teachers without courses (NaN for course columns).\")\n",
        "print(\"- Average courses per teacher gives insight into workload distribution.\")\n",
        "print(\"- Department-wise aggregation helps identify which department has the heaviest teaching load.\")\n"
      ],
      "metadata": {
        "colab": {
          "base_uri": "https://localhost:8080/"
        },
        "id": "I0OgWUoybsek",
        "outputId": "24b17a61-0e5f-40ca-b774-0780160c1bc0"
      },
      "execution_count": null,
      "outputs": [
        {
          "output_type": "stream",
          "name": "stdout",
          "text": [
            "Teachers Dataset:\n",
            "   teacher_id teacher_name        department\n",
            "0           1        Alice              Math\n",
            "1           2          Bob           Physics\n",
            "2           3      Charlie              Math\n",
            "3           4        David  Computer Science\n",
            "4           5          Eva           Physics \n",
            "\n",
            "Courses Dataset:\n",
            "   course_id      course_name  teacher_id\n",
            "0        101          Algebra           1\n",
            "1        102        Mechanics           2\n",
            "2        103       Statistics           1\n",
            "3        104      Programming           4\n",
            "4        105        Databases           4\n",
            "5        106  Quantum Physics           2\n",
            "6        107               AI           3 \n",
            "\n",
            "Merged Dataset (Inner Join):\n",
            "   teacher_id teacher_name        department  course_id      course_name\n",
            "0           1        Alice              Math        101          Algebra\n",
            "1           1        Alice              Math        103       Statistics\n",
            "2           2          Bob           Physics        102        Mechanics\n",
            "3           2          Bob           Physics        106  Quantum Physics\n",
            "4           3      Charlie              Math        107               AI\n",
            "5           4        David  Computer Science        104      Programming\n",
            "6           4        David  Computer Science        105        Databases \n",
            "\n",
            "Merged Dataset (Left Join):\n",
            "   teacher_id teacher_name        department  course_id      course_name\n",
            "0           1        Alice              Math      101.0          Algebra\n",
            "1           1        Alice              Math      103.0       Statistics\n",
            "2           2          Bob           Physics      102.0        Mechanics\n",
            "3           2          Bob           Physics      106.0  Quantum Physics\n",
            "4           3      Charlie              Math      107.0               AI\n",
            "5           4        David  Computer Science      104.0      Programming\n",
            "6           4        David  Computer Science      105.0        Databases\n",
            "7           5          Eva           Physics        NaN              NaN \n",
            "\n",
            "Courses per Teacher:\n",
            "   teacher_id  num_courses\n",
            "0           1            2\n",
            "1           2            2\n",
            "2           3            1\n",
            "3           4            2 \n",
            "\n",
            "Average courses per teacher: 1.75\n",
            "\n",
            "Department-wise Workload:\n",
            "         department  num_courses\n",
            "0  Computer Science          2.0\n",
            "1              Math          3.0\n",
            "2           Physics          2.0 \n",
            "\n",
            "Discussion:\n",
            "- Inner join shows only teachers who actually teach courses.\n",
            "- Left join includes teachers without courses (NaN for course columns).\n",
            "- Average courses per teacher gives insight into workload distribution.\n",
            "- Department-wise aggregation helps identify which department has the heaviest teaching load.\n"
          ]
        }
      ]
    }
  ]
}