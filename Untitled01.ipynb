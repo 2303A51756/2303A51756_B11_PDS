{
  "nbformat": 4,
  "nbformat_minor": 0,
  "metadata": {
    "colab": {
      "provenance": [],
      "authorship_tag": "ABX9TyM3cQFofrGHo32Nmsi8epVg",
      "include_colab_link": true
    },
    "kernelspec": {
      "name": "python3",
      "display_name": "Python 3"
    },
    "language_info": {
      "name": "python"
    }
  },
  "cells": [
    {
      "cell_type": "markdown",
      "metadata": {
        "id": "view-in-github",
        "colab_type": "text"
      },
      "source": [
        "<a href=\"https://colab.research.google.com/github/2303A51756/2303A51756_B11_PDS/blob/main/Untitled01.ipynb\" target=\"_parent\"><img src=\"https://colab.research.google.com/assets/colab-badge.svg\" alt=\"Open In Colab\"/></a>"
      ]
    },
    {
      "cell_type": "markdown",
      "source": [
        "Question 1"
      ],
      "metadata": {
        "id": "ML5jYQN3CDRq"
      }
    },
    {
      "cell_type": "code",
      "source": [
        "def factorial(n, depth=0):\n",
        "    indent = \"    \" * depth  # 4 spaces per depth level\n",
        "\n",
        "    # Show entering function\n",
        "    print(f\"{indent}→ factorial({n}) called\")\n",
        "\n",
        "    # Base case\n",
        "    if n == 0 or n == 1:\n",
        "        print(f\"{indent}  Base case reached: factorial({n}) = 1\")\n",
        "        print(f\"{indent}← Returning 1\")\n",
        "        return 1\n",
        "\n",
        "    # Recursive case\n",
        "    print(f\"{indent}  Recursive case: {n} * factorial({n-1})\")\n",
        "\n",
        "    result = n * factorial(n - 1, depth + 1)\n",
        "\n",
        "    # Show returning from function\n",
        "    print(f\"{indent}← Returning {result} for factorial({n})\")\n",
        "    return result\n",
        "\n",
        "\n",
        "# ===== MAIN SCRIPT =====\n",
        "try:\n",
        "    num = int(input(\"Enter a number (≤ 10): \"))\n",
        "    if num < 0 or num > 10:\n",
        "        print(\"Please enter a non-negative integer ≤ 10.\")\n",
        "    else:\n",
        "        print(\"\\nCall Stack Trace:\\n\")\n",
        "        final_result = factorial(num)\n",
        "        print(f\"\\nFinal Result: factorial({num}) = {final_result}\")\n",
        "except ValueError:\n",
        "    print(\"Invalid input! Please enter an integer.\")\n"
      ],
      "metadata": {
        "colab": {
          "base_uri": "https://localhost:8080/"
        },
        "id": "MVxQbGoMDd-8",
        "outputId": "454eea69-230e-4723-d606-f420bbeb555c"
      },
      "execution_count": 7,
      "outputs": [
        {
          "output_type": "stream",
          "name": "stdout",
          "text": [
            "Enter a number (≤ 10): 4\n",
            "\n",
            "Call Stack Trace:\n",
            "\n",
            "→ factorial(4) called\n",
            "  Recursive case: 4 * factorial(3)\n",
            "    → factorial(3) called\n",
            "      Recursive case: 3 * factorial(2)\n",
            "        → factorial(2) called\n",
            "          Recursive case: 2 * factorial(1)\n",
            "            → factorial(1) called\n",
            "              Base case reached: factorial(1) = 1\n",
            "            ← Returning 1\n",
            "        ← Returning 2 for factorial(2)\n",
            "    ← Returning 6 for factorial(3)\n",
            "← Returning 24 for factorial(4)\n",
            "\n",
            "Final Result: factorial(4) = 24\n"
          ]
        }
      ]
    },
    {
      "cell_type": "markdown",
      "source": [
        "Question 2"
      ],
      "metadata": {
        "id": "F4Zvnl5JDgxi"
      }
    },
    {
      "cell_type": "code",
      "source": [
        "import time\n",
        "import sys\n",
        "\n",
        "# ================= Recursive Implementation =================\n",
        "def factorial_recursive(n):\n",
        "    if n < 0:\n",
        "        raise ValueError(\"Factorial is not defined for negative numbers\")\n",
        "    if n == 0 or n == 1:\n",
        "        return 1\n",
        "    return n * factorial_recursive(n - 1)\n",
        "\n",
        "\n",
        "# ================= Iterative Implementation =================\n",
        "def factorial_iterative(n):\n",
        "    if n < 0:\n",
        "        raise ValueError(\"Factorial is not defined for negative numbers\")\n",
        "    result = 1\n",
        "    for i in range(2, n + 1):\n",
        "        result *= i\n",
        "    return result\n",
        "\n",
        "\n",
        "# ================= Helper: Measure Execution =================\n",
        "def measure_time_and_memory(func, n):\n",
        "    start_time = time.perf_counter()\n",
        "    result = func(n)\n",
        "    end_time = time.perf_counter()\n",
        "\n",
        "    exec_time = (end_time - start_time) * 1_000_000  # microseconds\n",
        "    memory = sys.getsizeof(result)\n",
        "\n",
        "    return result, exec_time, memory\n",
        "\n",
        "\n",
        "# ================= Main Script =================\n",
        "try:\n",
        "    num = int(input(\"Enter a number (0 ≤ n ≤ 1000): \"))\n",
        "\n",
        "    if num < 0:\n",
        "        print(\"❌ Factorial is not defined for negative numbers.\")\n",
        "    else:\n",
        "        print(\"\\nComparison Table:\\n\")\n",
        "        print(\"{:<12} {:<20} {:<20} {:<10}\".format(\"Method\", \"Execution Time (µs)\", \"Memory Usage (bytes)\", \"Result\"))\n",
        "\n",
        "        # Recursive\n",
        "        try:\n",
        "            rec_result, rec_time, rec_mem = measure_time_and_memory(factorial_recursive, num)\n",
        "            print(\"{:<12} {:<20.2f} {:<20} {:<10}\".format(\"Recursive\", rec_time, rec_mem, rec_result))\n",
        "        except RecursionError:\n",
        "            print(\"{:<12} {:<20} {:<20} {:<10}\".format(\"Recursive\", \"Stack Overflow\", \"-\", \"-\"))\n",
        "\n",
        "        # Iterative\n",
        "        iter_result, iter_time, iter_mem = measure_time_and_memory(factorial_iterative, num)\n",
        "        print(\"{:<12} {:<20.2f} {:<20} {:<10}\".format(\"Iterative\", iter_time, iter_mem, iter_result))\n",
        "\n",
        "        # Complexity Summary\n",
        "        print(\"\\nSummary Table:\")\n",
        "        print(\"{:<12} {:<20} {:<20}\".format(\"Method\", \"Time Complexity\", \"Space Complexity\"))\n",
        "        print(\"{:<12} {:<20} {:<20}\".format(\"Recursive\", \"O(n)\", \"O(n) (call stack)\"))\n",
        "        print(\"{:<12} {:<20} {:<20}\".format(\"Iterative\", \"O(n)\", \"O(1)\"))\n",
        "\n",
        "except ValueError:\n",
        "    print(\"❌ Invalid input! Please enter an integer.\")\n"
      ],
      "metadata": {
        "colab": {
          "base_uri": "https://localhost:8080/"
        },
        "id": "XVJlbRSADlcm",
        "outputId": "40cab83b-15f3-4beb-e3fd-9fd1e18e02fc"
      },
      "execution_count": 8,
      "outputs": [
        {
          "output_type": "stream",
          "name": "stdout",
          "text": [
            "Enter a number (0 ≤ n ≤ 1000): 999\n",
            "\n",
            "Comparison Table:\n",
            "\n",
            "Method       Execution Time (µs)  Memory Usage (bytes) Result    \n",
            "Recursive    Stack Overflow       -                    -         \n",
            "Iterative    251.60               1160                 402387260077093773543702433923003985719374864210714632543799910429938512398629020592044208486969404800479988610197196058631666872994808558901323829669944590997424504087073759918823627727188732519779505950995276120874975462497043601418278094646496291056393887437886487337119181045825783647849977012476632889835955735432513185323958463075557409114262417474349347553428646576611667797396668820291207379143853719588249808126867838374559731746136085379534524221586593201928090878297308431392844403281231558611036976801357304216168747609675871348312025478589320767169132448426236131412508780208000261683151027341827977704784635868170164365024153691398281264810213092761244896359928705114964975419909342221566832572080821333186116811553615836546984046708975602900950537616475847728421889679646244945160765353408198901385442487984959953319101723355556602139450399736280750137837615307127761926849034352625200015888535147331611702103968175921510907788019393178114194545257223865541461062892187960223838971476088506276862967146674697562911234082439208160153780889893964518263243671616762179168909779911903754031274622289988005195444414282012187361745992642956581746628302955570299024324153181617210465832036786906117260158783520751516284225540265170483304226143974286933061690897968482590125458327168226458066526769958652682272807075781391858178889652208164348344825993266043367660176999612831860788386150279465955131156552036093988180612138558600301435694527224206344631797460594682573103790084024432438465657245014402821885252470935190620929023136493273497565513958720559654228749774011413346962715422845862377387538230483865688976461927383814900140767310446640259899490222221765904339901886018566526485061799702356193897017860040811889729918311021171229845901641921068884387121855646124960798722908519296819372388642614839657382291123125024186649353143970137428531926649875337218940694281434118520158014123344828015051399694290153483077644569099073152433278288269864602789864321139083506217095002597389863554277196742822248757586765752344220207573630569498825087968928162753848863396909959826280956121450994871701244516461260379029309120889086942028510640182154399457156805941872748998094254742173582401063677404595741785160829230135358081840096996372524230560855903700624271243416909004153690105933983835777939410970027753472000000000000000000000000000000000000000000000000000000000000000000000000000000000000000000000000000000000000000000000000000000000000000000000000000000000000000000000000000000000000000000000000000000000000000000000000000000000000000000000000000000\n",
            "\n",
            "Summary Table:\n",
            "Method       Time Complexity      Space Complexity    \n",
            "Recursive    O(n)                 O(n) (call stack)   \n",
            "Iterative    O(n)                 O(1)                \n"
          ]
        }
      ]
    }
  ]
}